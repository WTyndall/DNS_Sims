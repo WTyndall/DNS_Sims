{
  "cells": [
    {
      "cell_type": "code",
      "execution_count": 1,
      "metadata": {
        "id": "jZYq7qD2knf1"
      },
      "outputs": [],
      "source": [
        "%matplotlib inline\n",
        "import numpy as np\n",
        "import matplotlib.pyplot as plt\n",
        "from matplotlib.pyplot import *\n",
        "from numba import jit\n",
        "from scipy.special import erf\n",
        "import timeit"
      ]
    },
    {
      "cell_type": "code",
      "execution_count": null,
      "metadata": {
        "id": "1lmqNBdckxaN"
      },
      "outputs": [],
      "source": [
        "## Gain as a \"function of gains\""
      ]
    },
    {
      "cell_type": "code",
      "execution_count": null,
      "metadata": {
        "id": "4SNgSd3Xk2P2"
      },
      "outputs": [],
      "source": [
        "## (Pon-Poff)/(Ton-Toff) ratios where Pon and Poff are realizations. \n",
        "## Ton is (1+ 1/b^2) and Toff is (1/b^2). Thus, Ton - Toff gives 1."
      ]
    },
    {
      "cell_type": "code",
      "execution_count": 2,
      "metadata": {
        "id": "oTLF4HlZk6X8"
      },
      "outputs": [],
      "source": [
        "## Defining Quantizer function with scaling; lines of code written by WT:\n",
        "@jit\n",
        "def quantizer_WT(a, scaling=None, nbits=8):\n",
        "    # a assumed to be signal in 'lsb's' but continuous\n",
        "    nlevels = 2**nbits\n",
        "    max_high = nlevels/2 - 1\n",
        "    max_low = -1.0*nlevels/2\n",
        "    #do easy but imperfect scaling to have std be nbits/2\n",
        "    desired_rms = 2**(nbits/2)\n",
        "    if scaling==None:\n",
        "        scaling1 = desired_rms/a.std()\n",
        "    elif type(scaling)==np.float64:\n",
        "        scaling1=scaling\n",
        "    quantized_a_real = np.round((a.real)*scaling1,0)\n",
        "    high_mask = (quantized_a_real > max_high)\n",
        "    quantized_a_real[high_mask] = max_high\n",
        "    low_mask = (quantized_a_real < max_low)\n",
        "    quantized_a_real[low_mask] = max_low\n",
        "    quantized_a_imag = np.round((a.imag)*scaling1,0)\n",
        "    high_mask = (quantized_a_imag > max_high)\n",
        "    quantized_a_imag[high_mask] = max_high\n",
        "    low_mask = (quantized_a_imag < max_low)\n",
        "    quantized_a_imag[low_mask] = max_low\n",
        "    quantized_a = quantized_a_real + 1.0j*quantized_a_imag\n",
        "    return quantized_a, scaling\n",
        "\n",
        "def quantizer_WT_scaling(a, nbits=8):\n",
        "    # a assumed to be signal in 'lsb's' but continuous\n",
        "    nlevels = 2**nbits\n",
        "    max_high = nlevels/2 - 1\n",
        "    max_low = -1.0*nlevels/2\n",
        "    #do easy but imperfect scaling to have std be nbits/2\n",
        "    desired_rms = 2**(nbits/2)\n",
        "    scaling1 = desired_rms/a.std()\n",
        "    return scaling1"
      ]
    },
    {
      "cell_type": "code",
      "execution_count": 3,
      "metadata": {
        "id": "NFVJY6o0k_bb"
      },
      "outputs": [],
      "source": [
        "## QUANTIZATION EFFECTS!!! \n",
        "## Declaring gain array to iterate over\n",
        "gains= np.arange(0.005,3.20,0.005)\n",
        "## Samples corresponding to (4*42)ms; Assume each sample to be of 2.56us time bin\n",
        "int_time= 4*16384\n",
        "gain_auto_no_quant = []\n",
        "gain_cross_no_quant = []\n",
        "gain_auto_quant = []\n",
        "gain_cross_quant =[]\n",
        "\n",
        "for i, gain in enumerate(gains):\n",
        "    # Defining calibration signal, noise signal (ON & OFF)\n",
        "    signal = np.random.normal(0, 2**0, int_time) +1.0j*np.random.normal(0, 2**0, int_time)\n",
        "    noise_term = np.random.normal(0, 2**0, int_time) +1.0j*np.random.normal(0, 2**0, int_time)\n",
        "    noise_term_off = np.random.normal(0, 2**0,int_time) +1.0j*np.random.normal(0, 2**0, int_time)\n",
        "\n",
        "    # Defining received signals\n",
        "    f_signal_on = gain*signal + noise_term\n",
        "    f_signal_off = noise_term_off\n",
        "    # Defining scaling factors\n",
        "    q_signal_scaling= np.nanmin([127.0/(6*np.std(np.real(f_signal_on))),127.0/(6*np.std(np.imag(f_signal_on)))])\n",
        "    sig_scaling= np.nanmin([127.0/(6*np.std(np.real(signal))),127.0/(6*np.std(np.imag(signal)))])\n",
        "    # Quantizing the signals\n",
        "    q_signal_on, scaling1= quantizer_WT(f_signal_on, scaling=q_signal_scaling)\n",
        "    q_signal_off, scaling2= quantizer_WT(f_signal_off, scaling=q_signal_scaling)\n",
        "    q_signal, scaling3= quantizer_WT(signal, scaling=sig_scaling)\n",
        "    \n",
        "\n",
        "    # Correlation measurements w/o quantization\n",
        "    auto_corr_on_no_quant = np.fft.ifft(np.fft.fft(f_signal_on[:int_time])*np.conjugate(np.fft.fft(f_signal_on[:int_time])))\n",
        "    auto_corr_off_no_quant = np.fft.ifft(np.fft.fft(f_signal_off[:int_time])*np.conjugate(np.fft.fft(f_signal_off[:int_time])))\n",
        "    cross_corr_on_no_quant = np.fft.ifft(np.fft.fft(f_signal_on[:int_time])*np.conjugate(np.fft.fft(signal[:int_time])))\n",
        "    cross_corr_off_no_quant = np.fft.ifft(np.fft.fft(f_signal_off[:int_time])*np.conjugate(np.fft.fft(signal[:int_time])))\n",
        "\n",
        "    # Correlation measurements w/ quantization \n",
        "    auto_corr_on_quant = np.fft.ifft(np.fft.fft(q_signal_on[:int_time])*np.conjugate(np.fft.fft(q_signal_on[:int_time])))\n",
        "    auto_corr_off_quant = np.fft.ifft(np.fft.fft(q_signal_off[:int_time])*np.conjugate(np.fft.fft(q_signal_off[:int_time])))\n",
        "    cross_corr_on_quant = np.fft.ifft(np.fft.fft(q_signal_on[:int_time])*np.conjugate(np.fft.fft(q_signal[:int_time]))) # TRY WITH SIGNAL\n",
        "    cross_corr_off_quant = np.fft.ifft(np.fft.fft(q_signal_off[:int_time])*np.conjugate(np.fft.fft(q_signal[:int_time]))) # TRY WITH SIGNAL\n",
        " \n",
        "    # Recovery of beam amplitude\n",
        "    gain_auto_no_quant2 = abs(auto_corr_on_no_quant[0]) - abs(auto_corr_off_no_quant[0])\n",
        "    gain_cross_no_quant2 = abs(cross_corr_on_no_quant[0]) \n",
        "    gain_auto_quant2 = (abs(auto_corr_on_quant[0])/(scaling1**2)) - (abs(auto_corr_off_quant[0])/(scaling2**2))\n",
        "    gain_cross_quant2 = abs(cross_corr_on_quant[0])/(scaling1*scaling3)\n",
        "\n",
        "    gain_auto_no_quant.append(gain_auto_no_quant2) \n",
        "    gain_cross_no_quant.append(gain_cross_no_quant2) \n",
        "    gain_auto_quant.append(gain_auto_quant2) \n",
        "    gain_cross_quant.append(gain_cross_quant2)\n",
        "    # print(\"For gain {}, gain auto w/o quant is {}, gain cross w/o quant is {}\".format(gain, gain_auto_no_quant1, gain_cross_no_quant1))"
      ]
    },
    {
      "cell_type": "code",
      "execution_count": 5,
      "metadata": {
        "id": "wEjH9kLAmGXF"
      },
      "outputs": [],
      "source": [
        "## converting into numpy ndarray for arithmatic operations\n",
        "gain_auto_no_quant2 =np.array(gain_auto_no_quant)\n",
        "gain_cross_no_quant2 = np.array(gain_cross_no_quant)\n",
        "gain_auto_quant2 =np.array(gain_auto_quant)\n",
        "gain_cross_quant2 = np.array(gain_cross_quant)"
      ]
    },
    {
      "cell_type": "code",
      "execution_count": 7,
      "metadata": {
        "colab": {
          "base_uri": "https://localhost:8080/",
          "height": 371
        },
        "id": "k1BUc6-2mKuw",
        "outputId": "4099db6d-7586-4cc2-fb2c-84ed97896cf4"
      },
      "outputs": [
        {
          "output_type": "execute_result",
          "data": {
            "text/plain": [
              "<matplotlib.legend.Legend at 0x7f40dc3ed910>"
            ]
          },
          "metadata": {},
          "execution_count": 7
        },
        {
          "output_type": "display_data",
          "data": {
            "text/plain": [
              "<Figure size 432x360 with 1 Axes>"
            ],
            "image/png": "[encoded data removed]"
          },
          "metadata": {
            "needs_background": "light"
          }
        }
      ],
      "source": [
        "## Normalizing recovered gain to 1\n",
        "## Normalization factor will change for quantization; done this pre-normalization operation in the previous block. \n",
        "\n",
        "from matplotlib import cm\n",
        "import matplotlib.colors\n",
        "## Importing gnuplot2 colormap\n",
        "colorsarr=cm.gnuplot2(np.linspace(0,1,65))\n",
        "\n",
        "figure(figsize= (6, 5))\n",
        "plot(gains*gains, gain_auto_quant2/(2*int_time*gains*gains), label='Autocorrelation', c=colorsarr[20])\n",
        "plot(gains*gains, gain_cross_quant2/(2*int_time*gains), label='Cross-correlation', c=colorsarr[30])\n",
        "xlabel('$g_T$', fontsize= 13)\n",
        "ylabel('Beam Amplitude ($g\\u0302_{norm}$)', fontsize= 13)\n",
        "title('Beam Amplitude', loc='center', fontsize= 13)\n",
        "plt.grid(True)\n",
        "plt.axhline(y = 1, color = 'black', linestyle = '--')\n",
        "plt.axhline(y = 1.01, c=colorsarr[10], linestyle = ':', label='$\\pm$ 0.01 Error margin')\n",
        "plt.axhline(y = 0.99, c=colorsarr[10], linestyle = ':')\n",
        "ylim(0.75,1.25)\n",
        "legend(fontsize= 13)"
      ]
    },
    {
      "cell_type": "code",
      "execution_count": null,
      "metadata": {
        "id": "if5EbAT8mQg1"
      },
      "outputs": [],
      "source": [
        "## Run it for 10000 times for int time= 4*16384 to get the mean square error/std dev of correlation measurements.\n",
        "## Gain is incremented by 0.05 (instead of 0.005) to reduce run time.\n",
        "\n",
        "gains= np.arange(0.005,3.20,0.05)\n",
        "repeat=10000\n",
        "int_time=4*16384\n",
        "gain_auto_quant = np.zeros((repeat, len(gains)))\n",
        "gain_cross_quant = np.zeros((repeat, len(gains)))\n",
        "\n",
        "## Repeating the calculation 10000 times for each gain value\n",
        "for i,gain in enumerate(gains):\n",
        "  for j in np.arange(repeat):\n",
        "    signal = np.random.normal(0, 2**0, int_time) +1.0j*np.random.normal(0, 2**0, int_time)\n",
        "    noise_term = np.random.normal(0, 2**0, int_time) +1.0j*np.random.normal(0, 2**0, int_time)\n",
        "    noise_term_off = np.random.normal(0, 2**0, int_time) +1.0j*np.random.normal(0, 2**0, int_time)\n",
        "    f_signal_on = (gain*signal) + noise_term\n",
        "    f_signal_off = noise_term_off\n",
        "\n",
        "    q_signal_scaling= np.nanmin([127.0/(6*np.std(np.real(f_signal_on))),127.0/(6*np.std(np.imag(f_signal_on)))])\n",
        "    sig_scaling= np.nanmin([127.0/(6*np.std(np.real(signal))),127.0/(6*np.std(np.imag(signal)))])\n",
        "    q_signal_on, scaling1= quantizer_WT(f_signal_on, scaling=q_signal_scaling)\n",
        "    q_signal_off, scaling2= quantizer_WT(f_signal_off, scaling=q_signal_scaling)\n",
        "    q_signal, scaling3= quantizer_WT(signal, scaling= sig_scaling)\n",
        "    \n",
        "    auto_corr_on_quant = np.fft.ifft(np.fft.fft(q_signal_on[:int_time])*np.conjugate(np.fft.fft(q_signal_on[:int_time])))\n",
        "    auto_corr_off_quant = np.fft.ifft(np.fft.fft(q_signal_off[:int_time])*np.conjugate(np.fft.fft(q_signal_off[:int_time])))\n",
        "    cross_corr_on_quant = np.fft.ifft(np.fft.fft(q_signal_on[:int_time])*np.conjugate(np.fft.fft(q_signal[:int_time]))) # TRY WITH SIGNAL\n",
        "    cross_corr_off_quant = np.fft.ifft(np.fft.fft(q_signal_off[:int_time])*np.conjugate(np.fft.fft(q_signal[:int_time]))) # TRY WITH SIGNAL\n",
        " \n",
        "    gain_auto_quant1 = (abs(auto_corr_on_quant[0])/(scaling1**2)) - (abs(auto_corr_off_quant[0])/(scaling2**2))\n",
        "    gain_cross_quant1 = abs(cross_corr_on_quant[0])/(scaling1*scaling3)\n",
        "\n",
        "    ## Storing gain values in a matrix where each column is 10000 iterated values of given gain.\n",
        "    gain_auto_quant[j,i]= gain_auto_quant1  \n",
        "    gain_cross_quant[j,i]= gain_cross_quant1\n",
        "    \n",
        " #   print(\"For gain {}, gain auto w/o quant is {}, gain cross w/o quant is {}\".format(gain, gain_auto_no_quant1, gain_cross_no_quant1))"
      ]
    },
    {
      "cell_type": "code",
      "execution_count": null,
      "metadata": {
        "id": "XwYSRjRdmZ20"
      },
      "outputs": [],
      "source": [
        "gain_auto_quant_std = (gain_auto_quant/(2*int_time*gains*gains)).std(axis=0)[:len(gains)]\n",
        "gain_cross_quant_std = (gain_cross_quant/(2*int_time*gains)).std(axis=0)[:len(gains)]\n",
        "gain_auto_qaunt_mean= (gain_auto_quant/(2*int_time*gains*gains)).mean(axis=0)[:len(gains)]\n",
        "gain_cross_quant_mean = (gain_cross_quant/(2*int_time*gains)).mean(axis=0)[:len(gains)]"
      ]
    },
    {
      "cell_type": "code",
      "source": [
        "# Saving arrays to file \n",
        "np.savez(\"./ResultantArrays.npz\",\\\n",
        "         gain_auto_quant=gain_auto_quant,\\\n",
        "         gain_cross_quant=gain_cross_quant,\\\n",
        "         gains=gains,\\\n",
        "         gain_auto_quant_std=gain_auto_quant_std,\\\n",
        "         gain_cross_quant_std=gain_cross_quant_std,\\\n",
        "         gain_auto_qaunt_mean=gain_auto_qaunt_mean,\\\n",
        "         gain_cross_quant_mean=gain_cross_quant_mean)\n",
        "       \n",
        "dat=np.load(\"./ResultantArrays.npz\")\n",
        "list(dat.keys())"
      ],
      "metadata": {
        "id": "AQcrwhRmBNiW"
      },
      "execution_count": null,
      "outputs": []
    },
    {
      "cell_type": "code",
      "execution_count": null,
      "metadata": {
        "id": "P4ZUv5AHmekE"
      },
      "outputs": [],
      "source": [
        "from matplotlib import cm\n",
        "import matplotlib.colors\n",
        "## Importing gnuplot2 colormap\n",
        "colorsarr=cm.gnuplot2(np.linspace(0,1,65))\n",
        "\n",
        "figure()\n",
        "plot(gains*gains, gain_auto_quant_std, label='Autocorrelation', marker= 'o', c=colorsarr[20])\n",
        "plot(gains*gains, gain_cross_quant_std, label='Cross-correlation', marker= 'o', c=colorsarr[30])\n",
        "plt.axhline(y = 0.01, color = 'r', linestyle = '--')\n",
        "xlabel('Input gain')\n",
        "#ylabel('$\\sigma_{\\hat{g}10000}$ Beam Amplitude')\n",
        "ylabel('Beam Amplitude Recovery')\n",
        "legend()\n",
        "\n",
        "figure()\n",
        "plot(gains*gains, gain_auto_qaunt_mean, label='Autocorrelation', marker= 'o', c=colorsarr[20])\n",
        "plot(gains*gains, gain_cross_quant_mean, label='Cross-correlation', marker= 'o', c=colorsarr[30])\n",
        "ylim(0.99,1.01)\n",
        "plt.axhline(y = 1, color = 'r', linestyle = '--')\n",
        "xlabel('Input gain')\n",
        "ylabel('$\\mu_{\\hat{g}10000}$ Beam Amplitude ')\n",
        "legend()\n",
        "\n",
        "figure()\n",
        "plot(gains*gains, gain_auto_quant_std/gain_auto_qaunt_mean, label='Autocorrelation', marker= 'o', c=colorsarr[20])\n",
        "plot(gains*gains, gain_cross_quant_std/gain_cross_quant_mean, label='Cross-correlation', marker= 'o', c=colorsarr[30])\n",
        "plt.axhline(y = 0.01, color = 'r', linestyle = '--')\n",
        "ylim(0,0.15)\n",
        "xlabel('Input gain')\n",
        "ylabel('$({\\sigma/\\mu})_{\\hat{g}10000}$ Beam Amplitude')\n",
        "legend()\n",
        "\n",
        "figure()\n",
        "plot(gains*gains, gain_auto_quant_std/gain_auto_qaunt_mean, label='Autocorrelation', marker= 'o', c=colorsarr[20])\n",
        "plot(gains*gains, gain_cross_quant_std/gain_cross_quant_mean, label='Cross-correlation', marker= 'o', c=colorsarr[30])\n",
        "plt.axhline(y = 0.01, color = 'r', linestyle = '--')\n",
        "plt.axvline(x = 0.094, color = 'r', linestyle = '--')\n",
        "plt.axvline(x = 0.79, color = 'r', linestyle = '--')\n",
        "ylim(0.005,0.020)\n",
        "xlim(0,2)\n",
        "xlabel('Input gain')\n",
        "#ylabel('$({\\sigma/\\mu})_{\\hat{g}10000}$ Beam Amplitude')\n",
        "ylabel('Beam Amplitude Recovery')\n",
        "legend()\n",
        "\n",
        "figure()\n",
        "plot(gains*gains, (gain_auto_quant_std/gain_auto_qaunt_mean)/(gain_cross_quant_std/gain_cross_quant_mean), marker= 'o', c=colorsarr[20])\n",
        "xlabel('Input gain')\n",
        "ylabel('$({\\sigma/\\mu})_{\\hat{g}10000 AUTO}/({\\sigma/\\mu})_{\\hat{g}10000 CROSS}$')\n",
        "plt.axhline(y = 1, color = 'r', linestyle = '--')\n",
        "ylim(-20,20)\n",
        "legend()"
      ]
    },
    {
      "cell_type": "code",
      "execution_count": null,
      "metadata": {
        "colab": {
          "base_uri": "https://localhost:8080/",
          "height": 435
        },
        "id": "XLhQ4-vgQ7kJ",
        "outputId": "433432f6-fa21-47da-c875-b16dbde11abb"
      },
      "outputs": [
        {
          "name": "stderr",
          "output_type": "stream",
          "text": [
            "/usr/local/lib/python3.7/dist-packages/ipykernel_launcher.py:9: RuntimeWarning: invalid value encountered in true_divide\n",
            "  if __name__ == '__main__':\n",
            "/usr/local/lib/python3.7/dist-packages/ipykernel_launcher.py:10: RuntimeWarning: invalid value encountered in true_divide\n",
            "  # Remove the CWD from sys.path while we load stuff.\n"
          ]
        },
        {
          "data": {
            "text/plain": [
              "<matplotlib.legend.Legend at 0x7f5936e01790>"
            ]
          },
          "execution_count": 66,
          "metadata": {},
          "output_type": "execute_result"
        },
        {
          "data": {
            "image/png": "[encoded data removed]",
            "text/plain": [
              "<Figure size 432x360 with 1 Axes>"
            ]
          },
          "metadata": {},
          "output_type": "display_data"
        }
      ],
      "source": [
        "from matplotlib import cm\n",
        "import matplotlib.colors\n",
        "## Importing gnuplot2 colormap\n",
        "colorsarr=cm.gnuplot2(np.linspace(0,1,65))\n",
        "#matplotlib.colors.to_rgba(colorsarr[len(gains)],alpha=1)\n",
        "\n",
        "\n",
        "figure(figsize=(6,5))\n",
        "plot(gains*gains, gain_auto_quant_std/gain_auto_qaunt_mean*100, label='Autocorrelation', marker= 'o', c=colorsarr[20])\n",
        "plot(gains*gains, gain_cross_quant_std/gain_cross_quant_mean*100, label='Cross-correlation', marker= 'o', c=colorsarr[30])\n",
        "plt.axhline(y = 1, c=colorsarr[10], linestyle = '--', label='1% Threshold')\n",
        "plt.axvline(x = 0.094, color = 'black', linestyle = ':')\n",
        "plt.axvline(x = 0.8, color = 'black', linestyle = ':')\n",
        "ylim(0,3)\n",
        "xlim(0,2)\n",
        "xlabel('Input Gain', fontsize= 10)\n",
        "ylabel('Beam Amplitude Recovery [%]', fontsize= 10)\n",
        "title('Beam Amplitude')\n",
        "legend()\n"
      ]
    },
    {
      "cell_type": "code",
      "source": [
        ""
      ],
      "metadata": {
        "id": "98Tcn2YRJcnk"
      },
      "execution_count": null,
      "outputs": []
    },
    {
      "cell_type": "code",
      "source": [
        "## Using KB's results for 10000 runs (version 1)."
      ],
      "metadata": {
        "id": "Cm6bXju_FSKB"
      },
      "execution_count": null,
      "outputs": []
    },
    {
      "cell_type": "code",
      "source": [
        "from google.colab import drive\n",
        "drive.mount('/content/drive')"
      ],
      "metadata": {
        "colab": {
          "base_uri": "https://localhost:8080/"
        },
        "id": "0IlH0hJMFfmu",
        "outputId": "ef44d0b8-857c-4d9f-f5b6-0fafc3423183"
      },
      "execution_count": null,
      "outputs": [
        {
          "output_type": "stream",
          "name": "stdout",
          "text": [
            "Mounted at /content/drive\n"
          ]
        }
      ]
    },
    {
      "cell_type": "code",
      "source": [
        "data=np.load('/content/drive/My Drive/DigitalCalibrationSource/gain_sweep_10000.npz')\n",
        "data.files\n",
        "gain_auto_quant= data['gain_auto_quant']\n",
        "gain_cross_quant= data['gain_cross_quant']\n",
        "gains= data['gains']"
      ],
      "metadata": {
        "id": "MyZcLiaFFTQW"
      },
      "execution_count": null,
      "outputs": []
    },
    {
      "cell_type": "code",
      "source": [
        "int_time =4*16384\n",
        "gain_auto_quant_std = (gain_auto_quant/(2*int_time*gains*gains)).std(axis=0)[:len(gains)]\n",
        "gain_cross_quant_std = (gain_cross_quant/(2*int_time*gains)).std(axis=0)[:len(gains)]\n",
        "gain_auto_qaunt_mean= (gain_auto_quant/(2*int_time*gains*gains)).mean(axis=0)[:len(gains)]\n",
        "gain_cross_quant_mean = (gain_cross_quant/(2*int_time*gains)).mean(axis=0)[:len(gains)]"
      ],
      "metadata": {
        "id": "-O07lQoCFj3G"
      },
      "execution_count": null,
      "outputs": []
    },
    {
      "cell_type": "code",
      "source": [
        "## Plot of 10000 runs used for DNS paper\n",
        "from matplotlib import cm\n",
        "import matplotlib.colors\n",
        "## Importing gnuplot2 colormap\n",
        "colorsarr=cm.gnuplot2(np.linspace(0,1,65))\n",
        "\n",
        "\n",
        "figure(figsize=(6,5))\n",
        "plot(gains*gains, gain_auto_quant_std/gain_auto_qaunt_mean*100, label='Autocorrelation', marker= 'o', c=colorsarr[20])\n",
        "plot(gains*gains, gain_cross_quant_std/gain_cross_quant_mean*100, label='Cross-correlation', marker= 'o', c=colorsarr[30])\n",
        "plt.axhline(y = 1, c=colorsarr[10], linestyle = '--', label='1% Threshold')\n",
        "plt.axvline(x = 0.094, c=colorsarr[1], ymin=0.0, ymax=0.35, linestyle = '--')\n",
        "plt.axvline(x = 0.8, c=colorsarr[1], ymin=0.0, ymax=0.35, linestyle = '--')\n",
        "plt.grid(True)\n",
        "ylim(0,3)\n",
        "xlim(0,2)\n",
        "xlabel('$g_T$', fontsize= 13)\n",
        "ylabel('Beam Amplitude Recovery [%]', fontsize= 13)\n",
        "title('Beam Amplitude')\n",
        "legend(fontsize= 13)"
      ],
      "metadata": {
        "colab": {
          "base_uri": "https://localhost:8080/",
          "height": 371
        },
        "id": "z_6Yuw4PFmQA",
        "outputId": "e43fee20-f29d-48c1-8d3c-737fcd736af1"
      },
      "execution_count": null,
      "outputs": [
        {
          "output_type": "execute_result",
          "data": {
            "text/plain": [
              "<matplotlib.legend.Legend at 0x7fe8fce18cd0>"
            ]
          },
          "metadata": {},
          "execution_count": 33
        },
        {
          "output_type": "display_data",
          "data": {
            "text/plain": [
              "<Figure size 432x360 with 1 Axes>"
            ],
            "image/png": "[encoded data removed]"
          },
          "metadata": {
            "needs_background": "light"
          }
        }
      ]
    },
    {
      "cell_type": "code",
      "source": [
        ""
      ],
      "metadata": {
        "id": "RGRGaEC42BHU"
      },
      "execution_count": null,
      "outputs": []
    },
    {
      "cell_type": "code",
      "execution_count": null,
      "metadata": {
        "id": "flhR8c_4UCKw"
      },
      "outputs": [],
      "source": [
        "## Don't run as it gives an error due to different lengths of gain arrays for both the plots \n",
        "## Can referred to as \"an example for how to plot subplots\":\n",
        "from matplotlib import cm\n",
        "import matplotlib.colors\n",
        "## Importing gnuplot2 colormap\n",
        "colorsarr=cm.gnuplot2(np.linspace(0,1,65))\n",
        "\n",
        "fig,[ax1,ax2]=subplots(nrows=1,ncols=2,figsize=(10,4))\n",
        "ax1.plot(gains*gains, gain_auto_quant_std/gain_auto_qaunt_mean*100, label='Autocorrelation', marker= 'o', c=colorsarr[20])\n",
        "ax1.plot(gains*gains, gain_cross_quant_std/gain_cross_quant_mean*100, label='Cross-correlation', marker= 'o', c=colorsarr[30])\n",
        "ax1.axhline(y = 1, color = 'b', linestyle = '--', label='1% Threshold')\n",
        "ax1.axvline(x = 0.094, c=colorsarr[1], linestyle = '--')\n",
        "ax1.axvline(x = 0.8, c=colorsarr[1], linestyle = '--')\n",
        "ax1.set_ylim(0,3)\n",
        "ax1.set_xlim(0,2)\n",
        "ax1.set_xlabel('Input gain')\n",
        "ax1.set_ylabel('Beam Amplitude Recovery [%]')\n",
        "ax1.set_title('Beam Amplitude')\n",
        "ax1.legend()\n",
        "\n",
        "\n",
        "ax2.plot(gains*gains, gain_auto_quant2/(2*int_time*gains*gains), label='Autocorrelation', marker= 'o', c=colorsarr[20])\n",
        "ax2.plot(gains*gains, gain_cross_quant2/(2*int_time*gains), label='Cross-correlation', marker= 'o', c=colorsarr[30])\n",
        "ax2.set_xlabel('Input gain', fontsize= 10)\n",
        "ax2.set_ylabel('Beam amplitude ($g\\u0302_{norm}$)', fontsize= 10)\n",
        "ax2.set_title('Beam amplitude of the receiver as a function of its original gain', loc='center', fontsize= 10)\n",
        "ax2.axhline(y = 1, color = 'r', linestyle = '--')\n",
        "ax2.axhline(y = 1.01, color = 'g', linestyle = ':')\n",
        "ax2.axhline(y = 0.99, color = 'g', linestyle = ':')\n",
        "ax2.set_ylim(0.75,1.25)\n",
        "ax2.legend()\n"
      ]
    }
  ],
  "metadata": {
    "colab": {
      "collapsed_sections": [],
      "name": "DNS_RecoveredGain_quant.ipynb",
      "provenance": []
    },
    "kernelspec": {
      "display_name": "Python 3",
      "name": "python3"
    },
    "language_info": {
      "name": "python"
    }
  },
  "nbformat": 4,
  "nbformat_minor": 0
}